{
  "nbformat": 4,
  "nbformat_minor": 0,
  "metadata": {
    "colab": {
      "provenance": []
    },
    "kernelspec": {
      "name": "python3",
      "display_name": "Python 3"
    },
    "language_info": {
      "name": "python"
    }
  },
  "cells": [
    {
      "cell_type": "code",
      "source": [
        "# se importa thinker\n",
        "#se crea variable\n",
        "from tkinter import *\n",
        "from tkinter import ttk\n",
        "window = Tk()\n",
        "# se crea titulo\n",
        "window.title(\"Welcome to TutorialsPoint\")\n",
        "# tamaño de ventana\n",
        "window.geometry('400x400')\n",
        "#color de ventana\n",
        "window.configure(background = \"black\");\n",
        "#se crean celdas\n",
        "a = Label(window ,text = \"Nombre\").grid(row = 0,column = 0)\n",
        "b = Label(window ,text = \"Apellido\").grid(row = 1,column = 0)\n",
        "c = Label(window ,text = \"Mail\").grid(row = 2,column = 0)\n",
        "d = Label(window ,text = \"Numero de contacto\").grid(row = 3,column = 0)\n",
        "#se escribe en celdas\n",
        "a1 = Entry(window).grid(row = 0,column = 1)\n",
        "b1 = Entry(window).grid(row = 1,column = 1)\n",
        "c1 = Entry(window).grid(row = 2,column = 1)\n",
        "d1 = Entry(window).grid(row = 3,column = 1)\n",
        "def clicked():\n",
        "  #aparezca texto\n",
        "   res = \"Welcome to \" + txt.get()\n",
        "   lbl.configure(text= res)\n",
        "btn = ttk.Button(window ,text=\"Submit\").grid(row=4,column=0)\n",
        "window.mainloop() #aparece ventana"
      ],
      "metadata": {
        "id": "gf5w_2UnD1vJ"
      },
      "execution_count": null,
      "outputs": []
    },
    {
      "cell_type": "code",
      "execution_count": 1,
      "metadata": {
        "colab": {
          "base_uri": "https://localhost:8080/",
          "height": 332
        },
        "id": "UhR28sJ56msM",
        "outputId": "521eaad0-6799-46cb-b3a1-bb806d323de4"
      },
      "outputs": [
        {
          "output_type": "error",
          "ename": "TclError",
          "evalue": "no display name and no $DISPLAY environment variable",
          "traceback": [
            "\u001b[0;31m---------------------------------------------------------------------------\u001b[0m",
            "\u001b[0;31mTclError\u001b[0m                                  Traceback (most recent call last)",
            "\u001b[0;32m<ipython-input-1-5280988def64>\u001b[0m in \u001b[0;36m<cell line: 6>\u001b[0;34m()\u001b[0m\n\u001b[1;32m      4\u001b[0m \u001b[0;32mfrom\u001b[0m \u001b[0mtkinter\u001b[0m \u001b[0;32mimport\u001b[0m \u001b[0mttk\u001b[0m\u001b[0;34m\u001b[0m\u001b[0;34m\u001b[0m\u001b[0m\n\u001b[1;32m      5\u001b[0m \u001b[0;31m# se abre ventana\u001b[0m\u001b[0;34m\u001b[0m\u001b[0;34m\u001b[0m\u001b[0m\n\u001b[0;32m----> 6\u001b[0;31m \u001b[0mwindow\u001b[0m \u001b[0;34m=\u001b[0m \u001b[0mTk\u001b[0m\u001b[0;34m(\u001b[0m\u001b[0;34m)\u001b[0m\u001b[0;34m\u001b[0m\u001b[0;34m\u001b[0m\u001b[0m\n\u001b[0m\u001b[1;32m      7\u001b[0m \u001b[0;31m# hacemos titulo\u001b[0m\u001b[0;34m\u001b[0m\u001b[0;34m\u001b[0m\u001b[0m\n\u001b[1;32m      8\u001b[0m \u001b[0mwindow\u001b[0m\u001b[0;34m.\u001b[0m\u001b[0mtitle\u001b[0m\u001b[0;34m(\u001b[0m\u001b[0;34m\"Welcome to Majos program\"\u001b[0m\u001b[0;34m)\u001b[0m\u001b[0;34m\u001b[0m\u001b[0;34m\u001b[0m\u001b[0m\n",
            "\u001b[0;32m/usr/lib/python3.10/tkinter/__init__.py\u001b[0m in \u001b[0;36m__init__\u001b[0;34m(self, screenName, baseName, className, useTk, sync, use)\u001b[0m\n\u001b[1;32m   2297\u001b[0m                 \u001b[0mbaseName\u001b[0m \u001b[0;34m=\u001b[0m \u001b[0mbaseName\u001b[0m \u001b[0;34m+\u001b[0m \u001b[0mext\u001b[0m\u001b[0;34m\u001b[0m\u001b[0;34m\u001b[0m\u001b[0m\n\u001b[1;32m   2298\u001b[0m         \u001b[0minteractive\u001b[0m \u001b[0;34m=\u001b[0m \u001b[0;32mFalse\u001b[0m\u001b[0;34m\u001b[0m\u001b[0;34m\u001b[0m\u001b[0m\n\u001b[0;32m-> 2299\u001b[0;31m         \u001b[0mself\u001b[0m\u001b[0;34m.\u001b[0m\u001b[0mtk\u001b[0m \u001b[0;34m=\u001b[0m \u001b[0m_tkinter\u001b[0m\u001b[0;34m.\u001b[0m\u001b[0mcreate\u001b[0m\u001b[0;34m(\u001b[0m\u001b[0mscreenName\u001b[0m\u001b[0;34m,\u001b[0m \u001b[0mbaseName\u001b[0m\u001b[0;34m,\u001b[0m \u001b[0mclassName\u001b[0m\u001b[0;34m,\u001b[0m \u001b[0minteractive\u001b[0m\u001b[0;34m,\u001b[0m \u001b[0mwantobjects\u001b[0m\u001b[0;34m,\u001b[0m \u001b[0museTk\u001b[0m\u001b[0;34m,\u001b[0m \u001b[0msync\u001b[0m\u001b[0;34m,\u001b[0m \u001b[0muse\u001b[0m\u001b[0;34m)\u001b[0m\u001b[0;34m\u001b[0m\u001b[0;34m\u001b[0m\u001b[0m\n\u001b[0m\u001b[1;32m   2300\u001b[0m         \u001b[0;32mif\u001b[0m \u001b[0museTk\u001b[0m\u001b[0;34m:\u001b[0m\u001b[0;34m\u001b[0m\u001b[0;34m\u001b[0m\u001b[0m\n\u001b[1;32m   2301\u001b[0m             \u001b[0mself\u001b[0m\u001b[0;34m.\u001b[0m\u001b[0m_loadtk\u001b[0m\u001b[0;34m(\u001b[0m\u001b[0;34m)\u001b[0m\u001b[0;34m\u001b[0m\u001b[0;34m\u001b[0m\u001b[0m\n",
            "\u001b[0;31mTclError\u001b[0m: no display name and no $DISPLAY environment variable"
          ]
        }
      ],
      "source": [
        "# se importa thinker\n",
        "#se crea variable\n",
        "from tkinter import *\n",
        "from tkinter import ttk\n",
        "# se abre ventana\n",
        "window = Tk()\n",
        "# hacemos titulo\n",
        "window.title(\"Bienvenido al programa de Majo\")\n",
        "# ponemos tamaño de ventana\n",
        "window.geometry('500x500')\n",
        "# lo ponemos del color que queramos\n",
        "window.configure(background = \"negro\");\n",
        "# Hacemos celdas\n",
        "a = Label(window ,text = \"Nombre\").grid(row = 0,column = 0)\n",
        "b = Label(window ,text = \"Paquete\").grid(row = 1,column = 0)\n",
        "c = Label(window ,text = \"Dia\").grid(row = 2,column = 0)\n",
        "d = Label(window ,text = \"Numero\").grid(row = 3,column = 0)\n",
        "e = Label(window ,text = \"tiempo\").grid(row = 4,column = 0)\n",
        "# aquí podemos hacer que se escriba en la celdas\n",
        "a1 = Entry(window).grid(row = 0,column = 1)\n",
        "b1 = Entry(window).grid(row = 1,column = 1)\n",
        "c1 = Entry(window).grid(row = 2,column = 1)\n",
        "d1 = Entry(window).grid(row = 3,column = 1)\n",
        "e1 = Entry(window).grid(row = 4,column = 1)\n",
        "def clicked():\n",
        "   # aparezca el texto en ventana\n",
        "   res = \"Bienvenido a \" + txt.get()\n",
        "   lbl.configure(text= res)\n",
        "   #para entregar\n",
        "btn = ttk.Button(window ,text=\"Entregar\").grid(row=5,column=1)\n",
        "window.mainloop()"
      ]
    },
    {
      "cell_type": "code",
      "source": [],
      "metadata": {
        "id": "8oID6rxO84mY"
      },
      "execution_count": 2,
      "outputs": []
    }
  ]
}