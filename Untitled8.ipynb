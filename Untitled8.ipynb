{
  "nbformat": 4,
  "nbformat_minor": 0,
  "metadata": {
    "colab": {
      "provenance": []
    },
    "kernelspec": {
      "name": "python3",
      "display_name": "Python 3"
    },
    "language_info": {
      "name": "python"
    }
  },
  "cells": [
    {
      "cell_type": "code",
      "execution_count": null,
      "metadata": {
        "id": "GA0xj-nC4fmf"
      },
      "outputs": [],
      "source": []
    },
    {
      "cell_type": "markdown",
      "source": [
        "#introducción\n",
        "SQL\n",
        "\n",
        "El lenguaje de consulta estructurada (SQL) es un lenguaje de consulta popular que se usa con frecuencia en todos los tipos de aplicaciones. [SQL](https://aws.amazon.com/es/what-is/sql/#:~:text=es%20importante%20SQL%3F-,El%20lenguaje%20de%20consulta%20estructurada%20(SQL)%20es%20un%20lenguaje%20de,los%20diferentes%20lenguajes%20de%20programaci%C3%B3n.)\n",
        "\n",
        "¿Para que srve y como lo puedes usar en tu carrera?\n",
        "para trabajar con conjuntos de datos y las relaciones\n",
        "[SQL](https://support.microsoft.com/es-es/topic/access-sql-conceptos-b%C3%A1sicos-vocabulario-y-sintaxis-444d0303-cde1-424e-9a74-e8dc3e460671#:~:text=las%20consultas%3A%20UNION-,%C2%BFQu%C3%A9%20es%20SQL%3F,SQL%20para%20trabajar%20con%20datos.)\n",
        "\n",
        "lo podemos usar para crear bases de datos\n",
        "\n",
        "¿Que librerias hay para trabajar SQL en google colab?\n",
        "SQLAlchemy, iPySQL,Psycopg2,cx_Oracle,PyODBC\n",
        "[librerias](https://learn.microsoft.com/es-es/sql/connect/sql-connection-libraries?view=sql-server-ver16)\n",
        "\n"
      ],
      "metadata": {
        "id": "4QroUKy04lYt"
      }
    },
    {
      "cell_type": "code",
      "source": [
        "import sqlite3"
      ],
      "metadata": {
        "id": "agTOj_-28pv0"
      },
      "execution_count": 1,
      "outputs": []
    },
    {
      "cell_type": "markdown",
      "source": [
        "My SQL necesita conexiones e instalaciones; el benchmark es el mejor de todos los queries. La ventaja de trabajar con sqlite, es que podemos crear bases de datos por default;mientras que en My sql es necesario crear la base de datos."
      ],
      "metadata": {
        "id": "W5S9ygbF8_zp"
      }
    },
    {
      "cell_type": "markdown",
      "source": [
        "vamos a crear una base de datos\n",
        "\n",
        "nuestra base de datos\n"
      ],
      "metadata": {
        "id": "Hbyy_0PO-oJA"
      }
    },
    {
      "cell_type": "code",
      "source": [
        "#para crear a la base de datos, es necesario conectar con el servidor de SQL.\n",
        "\n",
        "con = sqlite3.connect(\"libros_db.sqlite\")"
      ],
      "metadata": {
        "id": "yF7z0XW1-3eT"
      },
      "execution_count": 3,
      "outputs": []
    },
    {
      "cell_type": "markdown",
      "source": [
        "Ahora vamos a diseñar una tabla\n"
      ],
      "metadata": {
        "id": "GAOLpvk__y3C"
      }
    },
    {
      "cell_type": "code",
      "source": [
        "#creamos un cursor\n",
        "\n",
        "cursor=con.cursor()\n",
        "\n",
        "#aquí vamos a ejecutar los datos necesarios para crear la tabla\n",
        "\n",
        "cursor.execute('''\n",
        "CREATE TABLE libros(\n",
        "  id INTEGER PRIMARY KEY,\n",
        "  titulo TEXT NOT NULL,\n",
        "  autor TEXT NOT NULL,\n",
        "  año INTEGER\n",
        ")\n",
        "''')"
      ],
      "metadata": {
        "colab": {
          "base_uri": "https://localhost:8080/"
        },
        "id": "xA3dvhlt_2fG",
        "outputId": "f83a083a-002e-4373-c689-46af27d50cc5"
      },
      "execution_count": 5,
      "outputs": [
        {
          "output_type": "execute_result",
          "data": {
            "text/plain": [
              "<sqlite3.Cursor at 0x77fbc990b140>"
            ]
          },
          "metadata": {},
          "execution_count": 5
        }
      ]
    },
    {
      "cell_type": "code",
      "source": [
        "libros_datos=[(\"Harry Potter\", \"JKR\", 1997),\n",
        "              (\"The Hobbit\", \"Tolkien\", 1937),\n",
        "              (\"Better than the Movies\", \"Lynn Painter\", 2021),\n",
        "              (\"La sombra de Viento\", \"Carlos Ruiz Zafón\", 2001)]\n",
        "\n",
        "cursor.executemany(\"\"\"\n",
        "INSERT INTO libros (titulo, autor,año) VALUES(?,?,?)\"\"\", libros_datos)\n",
        "con.commit()"
      ],
      "metadata": {
        "id": "kBQglO4eEVun"
      },
      "execution_count": 7,
      "outputs": []
    },
    {
      "cell_type": "code",
      "source": [
        "cursor.execute(\"SELECT * FROM libros\")\n",
        "libros=cursor.fetchall()\n",
        "for libro in libros:\n",
        "  print(libros)"
      ],
      "metadata": {
        "colab": {
          "base_uri": "https://localhost:8080/"
        },
        "id": "_LNYdmboGmp-",
        "outputId": "c64304d9-0e34-4a53-be5e-659072e1c3f7"
      },
      "execution_count": 10,
      "outputs": [
        {
          "output_type": "stream",
          "name": "stdout",
          "text": [
            "[(1, 'Harry Potter', 'JKR', 1997), (2, 'The Hobbit', 'Tolkien', 1937), (3, 'Better than the Movies', 'Lynn Painter', 2021), (4, 'La sombra de Viento', 'Carlos Ruiz Zafón', 2001)]\n",
            "[(1, 'Harry Potter', 'JKR', 1997), (2, 'The Hobbit', 'Tolkien', 1937), (3, 'Better than the Movies', 'Lynn Painter', 2021), (4, 'La sombra de Viento', 'Carlos Ruiz Zafón', 2001)]\n",
            "[(1, 'Harry Potter', 'JKR', 1997), (2, 'The Hobbit', 'Tolkien', 1937), (3, 'Better than the Movies', 'Lynn Painter', 2021), (4, 'La sombra de Viento', 'Carlos Ruiz Zafón', 2001)]\n",
            "[(1, 'Harry Potter', 'JKR', 1997), (2, 'The Hobbit', 'Tolkien', 1937), (3, 'Better than the Movies', 'Lynn Painter', 2021), (4, 'La sombra de Viento', 'Carlos Ruiz Zafón', 2001)]\n"
          ]
        }
      ]
    }
  ]
}